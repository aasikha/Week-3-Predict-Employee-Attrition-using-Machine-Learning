{
  "nbformat": 4,
  "nbformat_minor": 0,
  "metadata": {
    "colab": {
      "provenance": [],
      "authorship_tag": "ABX9TyNyhg+KerjMu4ROlvEjg+YT",
      "include_colab_link": true
    },
    "kernelspec": {
      "name": "python3",
      "display_name": "Python 3"
    },
    "language_info": {
      "name": "python"
    }
  },
  "cells": [
    {
      "cell_type": "markdown",
      "metadata": {
        "id": "view-in-github",
        "colab_type": "text"
      },
      "source": [
        "<a href=\"https://colab.research.google.com/github/aasikha/Week-3-Predict-Employee-Attrition-using-Machine-Learning/blob/main/Week3.ipynb\" target=\"_parent\"><img src=\"https://colab.research.google.com/assets/colab-badge.svg\" alt=\"Open In Colab\"/></a>"
      ]
    },
    {
      "cell_type": "markdown",
      "source": [
        "# Project: Predicting Employee Attrition with IBM HR Analytics Dataset\n",
        "\n",
        "### Objective\n",
        "Build a machine learning model to predict whether an employee is likely to leave the company.  \n",
        "We will go through **data preprocessing, EDA, feature engineering, model building, and evaluation**.\n",
        "\n",
        "### Dataset\n",
        "Kaggle link: [IBM HR Analytics Attrition Dataset](https://www.kaggle.com/datasets/pavansubhasht/ibm-hr-analytics-attrition-dataset)\n",
        "\n",
        "### Tools & Libraries\n",
        "- pandas, numpy (data handling)  \n",
        "- matplotlib, seaborn (visualization)  \n",
        "- scikit-learn (ML models & evaluation)  \n",
        "- imbalanced-learn (SMOTE for class imbalance)  \n",
        "- XGBoost (advanced classifier)  \n"
      ],
      "metadata": {
        "id": "8S3F7umI2Jgx"
      }
    },
    {
      "cell_type": "markdown",
      "source": [
        "# Step 1: Import Libraries"
      ],
      "metadata": {
        "id": "1SuZ9jef2Q9R"
      }
    },
    {
      "cell_type": "code",
      "execution_count": 2,
      "metadata": {
        "id": "wLUd_q56pFDl"
      },
      "outputs": [],
      "source": [
        "import pandas as pd\n",
        "import numpy as np\n",
        "import matplotlib.pyplot as plt\n",
        "import seaborn as sns\n",
        "\n",
        "from sklearn.model_selection import train_test_split, cross_val_score\n",
        "from sklearn.preprocessing import LabelEncoder, StandardScaler\n",
        "from sklearn.linear_model import LogisticRegression\n",
        "from sklearn.ensemble import RandomForestClassifier\n",
        "from xgboost import XGBClassifier\n",
        "\n",
        "from sklearn.metrics import classification_report, confusion_matrix, accuracy_score\n",
        "from imblearn.over_sampling import SMOTE"
      ]
    },
    {
      "cell_type": "markdown",
      "source": [
        "# Step 2: Load Dataset"
      ],
      "metadata": {
        "id": "4-sagwlx2oNa"
      }
    },
    {
      "cell_type": "code",
      "source": [
        "df = pd.read_csv(\"WA_Fn-UseC_-HR-Employee-Attrition.csv\")\n",
        "print(\"Shape of dataset:\", df.shape)\n",
        "print(\"\\nColumns:\", df.columns.tolist())\n",
        "df.head()"
      ],
      "metadata": {
        "colab": {
          "base_uri": "https://localhost:8080/",
          "height": 377
        },
        "id": "uvw6Zcjp2sA1",
        "outputId": "b8bedc3a-7bcf-4100-ad35-26d5da5495e6"
      },
      "execution_count": 4,
      "outputs": [
        {
          "output_type": "stream",
          "name": "stdout",
          "text": [
            "Shape of dataset: (1470, 35)\n",
            "\n",
            "Columns: ['Age', 'Attrition', 'BusinessTravel', 'DailyRate', 'Department', 'DistanceFromHome', 'Education', 'EducationField', 'EmployeeCount', 'EmployeeNumber', 'EnvironmentSatisfaction', 'Gender', 'HourlyRate', 'JobInvolvement', 'JobLevel', 'JobRole', 'JobSatisfaction', 'MaritalStatus', 'MonthlyIncome', 'MonthlyRate', 'NumCompaniesWorked', 'Over18', 'OverTime', 'PercentSalaryHike', 'PerformanceRating', 'RelationshipSatisfaction', 'StandardHours', 'StockOptionLevel', 'TotalWorkingYears', 'TrainingTimesLastYear', 'WorkLifeBalance', 'YearsAtCompany', 'YearsInCurrentRole', 'YearsSinceLastPromotion', 'YearsWithCurrManager']\n"
          ]
        },
        {
          "output_type": "execute_result",
          "data": {
            "text/plain": [
              "   Age Attrition     BusinessTravel  DailyRate              Department  \\\n",
              "0   41       Yes      Travel_Rarely       1102                   Sales   \n",
              "1   49        No  Travel_Frequently        279  Research & Development   \n",
              "2   37       Yes      Travel_Rarely       1373  Research & Development   \n",
              "3   33        No  Travel_Frequently       1392  Research & Development   \n",
              "4   27        No      Travel_Rarely        591  Research & Development   \n",
              "\n",
              "   DistanceFromHome  Education EducationField  EmployeeCount  EmployeeNumber  \\\n",
              "0                 1          2  Life Sciences              1               1   \n",
              "1                 8          1  Life Sciences              1               2   \n",
              "2                 2          2          Other              1               4   \n",
              "3                 3          4  Life Sciences              1               5   \n",
              "4                 2          1        Medical              1               7   \n",
              "\n",
              "   ...  RelationshipSatisfaction StandardHours  StockOptionLevel  \\\n",
              "0  ...                         1            80                 0   \n",
              "1  ...                         4            80                 1   \n",
              "2  ...                         2            80                 0   \n",
              "3  ...                         3            80                 0   \n",
              "4  ...                         4            80                 1   \n",
              "\n",
              "   TotalWorkingYears  TrainingTimesLastYear WorkLifeBalance  YearsAtCompany  \\\n",
              "0                  8                      0               1               6   \n",
              "1                 10                      3               3              10   \n",
              "2                  7                      3               3               0   \n",
              "3                  8                      3               3               8   \n",
              "4                  6                      3               3               2   \n",
              "\n",
              "  YearsInCurrentRole  YearsSinceLastPromotion  YearsWithCurrManager  \n",
              "0                  4                        0                     5  \n",
              "1                  7                        1                     7  \n",
              "2                  0                        0                     0  \n",
              "3                  7                        3                     0  \n",
              "4                  2                        2                     2  \n",
              "\n",
              "[5 rows x 35 columns]"
            ],
            "text/html": [
              "\n",
              "  <div id=\"df-bbd949b1-a302-48b6-8087-4d2f0d8fa3be\" class=\"colab-df-container\">\n",
              "    <div>\n",
              "<style scoped>\n",
              "    .dataframe tbody tr th:only-of-type {\n",
              "        vertical-align: middle;\n",
              "    }\n",
              "\n",
              "    .dataframe tbody tr th {\n",
              "        vertical-align: top;\n",
              "    }\n",
              "\n",
              "    .dataframe thead th {\n",
              "        text-align: right;\n",
              "    }\n",
              "</style>\n",
              "<table border=\"1\" class=\"dataframe\">\n",
              "  <thead>\n",
              "    <tr style=\"text-align: right;\">\n",
              "      <th></th>\n",
              "      <th>Age</th>\n",
              "      <th>Attrition</th>\n",
              "      <th>BusinessTravel</th>\n",
              "      <th>DailyRate</th>\n",
              "      <th>Department</th>\n",
              "      <th>DistanceFromHome</th>\n",
              "      <th>Education</th>\n",
              "      <th>EducationField</th>\n",
              "      <th>EmployeeCount</th>\n",
              "      <th>EmployeeNumber</th>\n",
              "      <th>...</th>\n",
              "      <th>RelationshipSatisfaction</th>\n",
              "      <th>StandardHours</th>\n",
              "      <th>StockOptionLevel</th>\n",
              "      <th>TotalWorkingYears</th>\n",
              "      <th>TrainingTimesLastYear</th>\n",
              "      <th>WorkLifeBalance</th>\n",
              "      <th>YearsAtCompany</th>\n",
              "      <th>YearsInCurrentRole</th>\n",
              "      <th>YearsSinceLastPromotion</th>\n",
              "      <th>YearsWithCurrManager</th>\n",
              "    </tr>\n",
              "  </thead>\n",
              "  <tbody>\n",
              "    <tr>\n",
              "      <th>0</th>\n",
              "      <td>41</td>\n",
              "      <td>Yes</td>\n",
              "      <td>Travel_Rarely</td>\n",
              "      <td>1102</td>\n",
              "      <td>Sales</td>\n",
              "      <td>1</td>\n",
              "      <td>2</td>\n",
              "      <td>Life Sciences</td>\n",
              "      <td>1</td>\n",
              "      <td>1</td>\n",
              "      <td>...</td>\n",
              "      <td>1</td>\n",
              "      <td>80</td>\n",
              "      <td>0</td>\n",
              "      <td>8</td>\n",
              "      <td>0</td>\n",
              "      <td>1</td>\n",
              "      <td>6</td>\n",
              "      <td>4</td>\n",
              "      <td>0</td>\n",
              "      <td>5</td>\n",
              "    </tr>\n",
              "    <tr>\n",
              "      <th>1</th>\n",
              "      <td>49</td>\n",
              "      <td>No</td>\n",
              "      <td>Travel_Frequently</td>\n",
              "      <td>279</td>\n",
              "      <td>Research &amp; Development</td>\n",
              "      <td>8</td>\n",
              "      <td>1</td>\n",
              "      <td>Life Sciences</td>\n",
              "      <td>1</td>\n",
              "      <td>2</td>\n",
              "      <td>...</td>\n",
              "      <td>4</td>\n",
              "      <td>80</td>\n",
              "      <td>1</td>\n",
              "      <td>10</td>\n",
              "      <td>3</td>\n",
              "      <td>3</td>\n",
              "      <td>10</td>\n",
              "      <td>7</td>\n",
              "      <td>1</td>\n",
              "      <td>7</td>\n",
              "    </tr>\n",
              "    <tr>\n",
              "      <th>2</th>\n",
              "      <td>37</td>\n",
              "      <td>Yes</td>\n",
              "      <td>Travel_Rarely</td>\n",
              "      <td>1373</td>\n",
              "      <td>Research &amp; Development</td>\n",
              "      <td>2</td>\n",
              "      <td>2</td>\n",
              "      <td>Other</td>\n",
              "      <td>1</td>\n",
              "      <td>4</td>\n",
              "      <td>...</td>\n",
              "      <td>2</td>\n",
              "      <td>80</td>\n",
              "      <td>0</td>\n",
              "      <td>7</td>\n",
              "      <td>3</td>\n",
              "      <td>3</td>\n",
              "      <td>0</td>\n",
              "      <td>0</td>\n",
              "      <td>0</td>\n",
              "      <td>0</td>\n",
              "    </tr>\n",
              "    <tr>\n",
              "      <th>3</th>\n",
              "      <td>33</td>\n",
              "      <td>No</td>\n",
              "      <td>Travel_Frequently</td>\n",
              "      <td>1392</td>\n",
              "      <td>Research &amp; Development</td>\n",
              "      <td>3</td>\n",
              "      <td>4</td>\n",
              "      <td>Life Sciences</td>\n",
              "      <td>1</td>\n",
              "      <td>5</td>\n",
              "      <td>...</td>\n",
              "      <td>3</td>\n",
              "      <td>80</td>\n",
              "      <td>0</td>\n",
              "      <td>8</td>\n",
              "      <td>3</td>\n",
              "      <td>3</td>\n",
              "      <td>8</td>\n",
              "      <td>7</td>\n",
              "      <td>3</td>\n",
              "      <td>0</td>\n",
              "    </tr>\n",
              "    <tr>\n",
              "      <th>4</th>\n",
              "      <td>27</td>\n",
              "      <td>No</td>\n",
              "      <td>Travel_Rarely</td>\n",
              "      <td>591</td>\n",
              "      <td>Research &amp; Development</td>\n",
              "      <td>2</td>\n",
              "      <td>1</td>\n",
              "      <td>Medical</td>\n",
              "      <td>1</td>\n",
              "      <td>7</td>\n",
              "      <td>...</td>\n",
              "      <td>4</td>\n",
              "      <td>80</td>\n",
              "      <td>1</td>\n",
              "      <td>6</td>\n",
              "      <td>3</td>\n",
              "      <td>3</td>\n",
              "      <td>2</td>\n",
              "      <td>2</td>\n",
              "      <td>2</td>\n",
              "      <td>2</td>\n",
              "    </tr>\n",
              "  </tbody>\n",
              "</table>\n",
              "<p>5 rows × 35 columns</p>\n",
              "</div>\n",
              "    <div class=\"colab-df-buttons\">\n",
              "\n",
              "  <div class=\"colab-df-container\">\n",
              "    <button class=\"colab-df-convert\" onclick=\"convertToInteractive('df-bbd949b1-a302-48b6-8087-4d2f0d8fa3be')\"\n",
              "            title=\"Convert this dataframe to an interactive table.\"\n",
              "            style=\"display:none;\">\n",
              "\n",
              "  <svg xmlns=\"http://www.w3.org/2000/svg\" height=\"24px\" viewBox=\"0 -960 960 960\">\n",
              "    <path d=\"M120-120v-720h720v720H120Zm60-500h600v-160H180v160Zm220 220h160v-160H400v160Zm0 220h160v-160H400v160ZM180-400h160v-160H180v160Zm440 0h160v-160H620v160ZM180-180h160v-160H180v160Zm440 0h160v-160H620v160Z\"/>\n",
              "  </svg>\n",
              "    </button>\n",
              "\n",
              "  <style>\n",
              "    .colab-df-container {\n",
              "      display:flex;\n",
              "      gap: 12px;\n",
              "    }\n",
              "\n",
              "    .colab-df-convert {\n",
              "      background-color: #E8F0FE;\n",
              "      border: none;\n",
              "      border-radius: 50%;\n",
              "      cursor: pointer;\n",
              "      display: none;\n",
              "      fill: #1967D2;\n",
              "      height: 32px;\n",
              "      padding: 0 0 0 0;\n",
              "      width: 32px;\n",
              "    }\n",
              "\n",
              "    .colab-df-convert:hover {\n",
              "      background-color: #E2EBFA;\n",
              "      box-shadow: 0px 1px 2px rgba(60, 64, 67, 0.3), 0px 1px 3px 1px rgba(60, 64, 67, 0.15);\n",
              "      fill: #174EA6;\n",
              "    }\n",
              "\n",
              "    .colab-df-buttons div {\n",
              "      margin-bottom: 4px;\n",
              "    }\n",
              "\n",
              "    [theme=dark] .colab-df-convert {\n",
              "      background-color: #3B4455;\n",
              "      fill: #D2E3FC;\n",
              "    }\n",
              "\n",
              "    [theme=dark] .colab-df-convert:hover {\n",
              "      background-color: #434B5C;\n",
              "      box-shadow: 0px 1px 3px 1px rgba(0, 0, 0, 0.15);\n",
              "      filter: drop-shadow(0px 1px 2px rgba(0, 0, 0, 0.3));\n",
              "      fill: #FFFFFF;\n",
              "    }\n",
              "  </style>\n",
              "\n",
              "    <script>\n",
              "      const buttonEl =\n",
              "        document.querySelector('#df-bbd949b1-a302-48b6-8087-4d2f0d8fa3be button.colab-df-convert');\n",
              "      buttonEl.style.display =\n",
              "        google.colab.kernel.accessAllowed ? 'block' : 'none';\n",
              "\n",
              "      async function convertToInteractive(key) {\n",
              "        const element = document.querySelector('#df-bbd949b1-a302-48b6-8087-4d2f0d8fa3be');\n",
              "        const dataTable =\n",
              "          await google.colab.kernel.invokeFunction('convertToInteractive',\n",
              "                                                    [key], {});\n",
              "        if (!dataTable) return;\n",
              "\n",
              "        const docLinkHtml = 'Like what you see? Visit the ' +\n",
              "          '<a target=\"_blank\" href=https://colab.research.google.com/notebooks/data_table.ipynb>data table notebook</a>'\n",
              "          + ' to learn more about interactive tables.';\n",
              "        element.innerHTML = '';\n",
              "        dataTable['output_type'] = 'display_data';\n",
              "        await google.colab.output.renderOutput(dataTable, element);\n",
              "        const docLink = document.createElement('div');\n",
              "        docLink.innerHTML = docLinkHtml;\n",
              "        element.appendChild(docLink);\n",
              "      }\n",
              "    </script>\n",
              "  </div>\n",
              "\n",
              "\n",
              "    <div id=\"df-3034d51e-598a-48d2-998a-456bb742d1ce\">\n",
              "      <button class=\"colab-df-quickchart\" onclick=\"quickchart('df-3034d51e-598a-48d2-998a-456bb742d1ce')\"\n",
              "                title=\"Suggest charts\"\n",
              "                style=\"display:none;\">\n",
              "\n",
              "<svg xmlns=\"http://www.w3.org/2000/svg\" height=\"24px\"viewBox=\"0 0 24 24\"\n",
              "     width=\"24px\">\n",
              "    <g>\n",
              "        <path d=\"M19 3H5c-1.1 0-2 .9-2 2v14c0 1.1.9 2 2 2h14c1.1 0 2-.9 2-2V5c0-1.1-.9-2-2-2zM9 17H7v-7h2v7zm4 0h-2V7h2v10zm4 0h-2v-4h2v4z\"/>\n",
              "    </g>\n",
              "</svg>\n",
              "      </button>\n",
              "\n",
              "<style>\n",
              "  .colab-df-quickchart {\n",
              "      --bg-color: #E8F0FE;\n",
              "      --fill-color: #1967D2;\n",
              "      --hover-bg-color: #E2EBFA;\n",
              "      --hover-fill-color: #174EA6;\n",
              "      --disabled-fill-color: #AAA;\n",
              "      --disabled-bg-color: #DDD;\n",
              "  }\n",
              "\n",
              "  [theme=dark] .colab-df-quickchart {\n",
              "      --bg-color: #3B4455;\n",
              "      --fill-color: #D2E3FC;\n",
              "      --hover-bg-color: #434B5C;\n",
              "      --hover-fill-color: #FFFFFF;\n",
              "      --disabled-bg-color: #3B4455;\n",
              "      --disabled-fill-color: #666;\n",
              "  }\n",
              "\n",
              "  .colab-df-quickchart {\n",
              "    background-color: var(--bg-color);\n",
              "    border: none;\n",
              "    border-radius: 50%;\n",
              "    cursor: pointer;\n",
              "    display: none;\n",
              "    fill: var(--fill-color);\n",
              "    height: 32px;\n",
              "    padding: 0;\n",
              "    width: 32px;\n",
              "  }\n",
              "\n",
              "  .colab-df-quickchart:hover {\n",
              "    background-color: var(--hover-bg-color);\n",
              "    box-shadow: 0 1px 2px rgba(60, 64, 67, 0.3), 0 1px 3px 1px rgba(60, 64, 67, 0.15);\n",
              "    fill: var(--button-hover-fill-color);\n",
              "  }\n",
              "\n",
              "  .colab-df-quickchart-complete:disabled,\n",
              "  .colab-df-quickchart-complete:disabled:hover {\n",
              "    background-color: var(--disabled-bg-color);\n",
              "    fill: var(--disabled-fill-color);\n",
              "    box-shadow: none;\n",
              "  }\n",
              "\n",
              "  .colab-df-spinner {\n",
              "    border: 2px solid var(--fill-color);\n",
              "    border-color: transparent;\n",
              "    border-bottom-color: var(--fill-color);\n",
              "    animation:\n",
              "      spin 1s steps(1) infinite;\n",
              "  }\n",
              "\n",
              "  @keyframes spin {\n",
              "    0% {\n",
              "      border-color: transparent;\n",
              "      border-bottom-color: var(--fill-color);\n",
              "      border-left-color: var(--fill-color);\n",
              "    }\n",
              "    20% {\n",
              "      border-color: transparent;\n",
              "      border-left-color: var(--fill-color);\n",
              "      border-top-color: var(--fill-color);\n",
              "    }\n",
              "    30% {\n",
              "      border-color: transparent;\n",
              "      border-left-color: var(--fill-color);\n",
              "      border-top-color: var(--fill-color);\n",
              "      border-right-color: var(--fill-color);\n",
              "    }\n",
              "    40% {\n",
              "      border-color: transparent;\n",
              "      border-right-color: var(--fill-color);\n",
              "      border-top-color: var(--fill-color);\n",
              "    }\n",
              "    60% {\n",
              "      border-color: transparent;\n",
              "      border-right-color: var(--fill-color);\n",
              "    }\n",
              "    80% {\n",
              "      border-color: transparent;\n",
              "      border-right-color: var(--fill-color);\n",
              "      border-bottom-color: var(--fill-color);\n",
              "    }\n",
              "    90% {\n",
              "      border-color: transparent;\n",
              "      border-bottom-color: var(--fill-color);\n",
              "    }\n",
              "  }\n",
              "</style>\n",
              "\n",
              "      <script>\n",
              "        async function quickchart(key) {\n",
              "          const quickchartButtonEl =\n",
              "            document.querySelector('#' + key + ' button');\n",
              "          quickchartButtonEl.disabled = true;  // To prevent multiple clicks.\n",
              "          quickchartButtonEl.classList.add('colab-df-spinner');\n",
              "          try {\n",
              "            const charts = await google.colab.kernel.invokeFunction(\n",
              "                'suggestCharts', [key], {});\n",
              "          } catch (error) {\n",
              "            console.error('Error during call to suggestCharts:', error);\n",
              "          }\n",
              "          quickchartButtonEl.classList.remove('colab-df-spinner');\n",
              "          quickchartButtonEl.classList.add('colab-df-quickchart-complete');\n",
              "        }\n",
              "        (() => {\n",
              "          let quickchartButtonEl =\n",
              "            document.querySelector('#df-3034d51e-598a-48d2-998a-456bb742d1ce button');\n",
              "          quickchartButtonEl.style.display =\n",
              "            google.colab.kernel.accessAllowed ? 'block' : 'none';\n",
              "        })();\n",
              "      </script>\n",
              "    </div>\n",
              "\n",
              "    </div>\n",
              "  </div>\n"
            ],
            "application/vnd.google.colaboratory.intrinsic+json": {
              "type": "dataframe",
              "variable_name": "df"
            }
          },
          "metadata": {},
          "execution_count": 4
        }
      ]
    },
    {
      "cell_type": "markdown",
      "source": [
        "# Step 3: Explore Data"
      ],
      "metadata": {
        "id": "Bcmx99SfvBy2"
      }
    },
    {
      "cell_type": "code",
      "source": [
        "print(df.info())\n",
        "print(df.describe())\n",
        "print(df['Attrition'].value_counts())"
      ],
      "metadata": {
        "colab": {
          "base_uri": "https://localhost:8080/"
        },
        "id": "yVv-Pc4XvBdo",
        "outputId": "c62d83b8-a10d-4a1c-d1c0-37ab89067cc0"
      },
      "execution_count": 5,
      "outputs": [
        {
          "output_type": "stream",
          "name": "stdout",
          "text": [
            "<class 'pandas.core.frame.DataFrame'>\n",
            "RangeIndex: 1470 entries, 0 to 1469\n",
            "Data columns (total 35 columns):\n",
            " #   Column                    Non-Null Count  Dtype \n",
            "---  ------                    --------------  ----- \n",
            " 0   Age                       1470 non-null   int64 \n",
            " 1   Attrition                 1470 non-null   object\n",
            " 2   BusinessTravel            1470 non-null   object\n",
            " 3   DailyRate                 1470 non-null   int64 \n",
            " 4   Department                1470 non-null   object\n",
            " 5   DistanceFromHome          1470 non-null   int64 \n",
            " 6   Education                 1470 non-null   int64 \n",
            " 7   EducationField            1470 non-null   object\n",
            " 8   EmployeeCount             1470 non-null   int64 \n",
            " 9   EmployeeNumber            1470 non-null   int64 \n",
            " 10  EnvironmentSatisfaction   1470 non-null   int64 \n",
            " 11  Gender                    1470 non-null   object\n",
            " 12  HourlyRate                1470 non-null   int64 \n",
            " 13  JobInvolvement            1470 non-null   int64 \n",
            " 14  JobLevel                  1470 non-null   int64 \n",
            " 15  JobRole                   1470 non-null   object\n",
            " 16  JobSatisfaction           1470 non-null   int64 \n",
            " 17  MaritalStatus             1470 non-null   object\n",
            " 18  MonthlyIncome             1470 non-null   int64 \n",
            " 19  MonthlyRate               1470 non-null   int64 \n",
            " 20  NumCompaniesWorked        1470 non-null   int64 \n",
            " 21  Over18                    1470 non-null   object\n",
            " 22  OverTime                  1470 non-null   object\n",
            " 23  PercentSalaryHike         1470 non-null   int64 \n",
            " 24  PerformanceRating         1470 non-null   int64 \n",
            " 25  RelationshipSatisfaction  1470 non-null   int64 \n",
            " 26  StandardHours             1470 non-null   int64 \n",
            " 27  StockOptionLevel          1470 non-null   int64 \n",
            " 28  TotalWorkingYears         1470 non-null   int64 \n",
            " 29  TrainingTimesLastYear     1470 non-null   int64 \n",
            " 30  WorkLifeBalance           1470 non-null   int64 \n",
            " 31  YearsAtCompany            1470 non-null   int64 \n",
            " 32  YearsInCurrentRole        1470 non-null   int64 \n",
            " 33  YearsSinceLastPromotion   1470 non-null   int64 \n",
            " 34  YearsWithCurrManager      1470 non-null   int64 \n",
            "dtypes: int64(26), object(9)\n",
            "memory usage: 402.1+ KB\n",
            "None\n",
            "               Age    DailyRate  DistanceFromHome    Education  EmployeeCount  \\\n",
            "count  1470.000000  1470.000000       1470.000000  1470.000000         1470.0   \n",
            "mean     36.923810   802.485714          9.192517     2.912925            1.0   \n",
            "std       9.135373   403.509100          8.106864     1.024165            0.0   \n",
            "min      18.000000   102.000000          1.000000     1.000000            1.0   \n",
            "25%      30.000000   465.000000          2.000000     2.000000            1.0   \n",
            "50%      36.000000   802.000000          7.000000     3.000000            1.0   \n",
            "75%      43.000000  1157.000000         14.000000     4.000000            1.0   \n",
            "max      60.000000  1499.000000         29.000000     5.000000            1.0   \n",
            "\n",
            "       EmployeeNumber  EnvironmentSatisfaction   HourlyRate  JobInvolvement  \\\n",
            "count     1470.000000              1470.000000  1470.000000     1470.000000   \n",
            "mean      1024.865306                 2.721769    65.891156        2.729932   \n",
            "std        602.024335                 1.093082    20.329428        0.711561   \n",
            "min          1.000000                 1.000000    30.000000        1.000000   \n",
            "25%        491.250000                 2.000000    48.000000        2.000000   \n",
            "50%       1020.500000                 3.000000    66.000000        3.000000   \n",
            "75%       1555.750000                 4.000000    83.750000        3.000000   \n",
            "max       2068.000000                 4.000000   100.000000        4.000000   \n",
            "\n",
            "          JobLevel  ...  RelationshipSatisfaction  StandardHours  \\\n",
            "count  1470.000000  ...               1470.000000         1470.0   \n",
            "mean      2.063946  ...                  2.712245           80.0   \n",
            "std       1.106940  ...                  1.081209            0.0   \n",
            "min       1.000000  ...                  1.000000           80.0   \n",
            "25%       1.000000  ...                  2.000000           80.0   \n",
            "50%       2.000000  ...                  3.000000           80.0   \n",
            "75%       3.000000  ...                  4.000000           80.0   \n",
            "max       5.000000  ...                  4.000000           80.0   \n",
            "\n",
            "       StockOptionLevel  TotalWorkingYears  TrainingTimesLastYear  \\\n",
            "count       1470.000000        1470.000000            1470.000000   \n",
            "mean           0.793878          11.279592               2.799320   \n",
            "std            0.852077           7.780782               1.289271   \n",
            "min            0.000000           0.000000               0.000000   \n",
            "25%            0.000000           6.000000               2.000000   \n",
            "50%            1.000000          10.000000               3.000000   \n",
            "75%            1.000000          15.000000               3.000000   \n",
            "max            3.000000          40.000000               6.000000   \n",
            "\n",
            "       WorkLifeBalance  YearsAtCompany  YearsInCurrentRole  \\\n",
            "count      1470.000000     1470.000000         1470.000000   \n",
            "mean          2.761224        7.008163            4.229252   \n",
            "std           0.706476        6.126525            3.623137   \n",
            "min           1.000000        0.000000            0.000000   \n",
            "25%           2.000000        3.000000            2.000000   \n",
            "50%           3.000000        5.000000            3.000000   \n",
            "75%           3.000000        9.000000            7.000000   \n",
            "max           4.000000       40.000000           18.000000   \n",
            "\n",
            "       YearsSinceLastPromotion  YearsWithCurrManager  \n",
            "count              1470.000000           1470.000000  \n",
            "mean                  2.187755              4.123129  \n",
            "std                   3.222430              3.568136  \n",
            "min                   0.000000              0.000000  \n",
            "25%                   0.000000              2.000000  \n",
            "50%                   1.000000              3.000000  \n",
            "75%                   3.000000              7.000000  \n",
            "max                  15.000000             17.000000  \n",
            "\n",
            "[8 rows x 26 columns]\n",
            "Attrition\n",
            "No     1233\n",
            "Yes     237\n",
            "Name: count, dtype: int64\n"
          ]
        }
      ]
    },
    {
      "cell_type": "markdown",
      "source": [
        "# Step 4: Encode Categorical Variables"
      ],
      "metadata": {
        "id": "k7Z3rJaOwMPw"
      }
    },
    {
      "cell_type": "code",
      "source": [
        "cat_cols = df.select_dtypes(include=['object']).columns\n",
        "le = LabelEncoder()\n",
        "for col in cat_cols:\n",
        "    df[col] = le.fit_transform(df[col])"
      ],
      "metadata": {
        "id": "9VLP1VakwNXg"
      },
      "execution_count": 6,
      "outputs": []
    },
    {
      "cell_type": "markdown",
      "source": [
        "# Step 5: Define Features (X) and Target (y)"
      ],
      "metadata": {
        "id": "k4KBs8gTwZs6"
      }
    },
    {
      "cell_type": "code",
      "source": [
        "X = df.drop(\"Attrition\", axis=1)\n",
        "y = df[\"Attrition\"]"
      ],
      "metadata": {
        "id": "4lvJycc_wcm5"
      },
      "execution_count": 7,
      "outputs": []
    },
    {
      "cell_type": "markdown",
      "source": [
        "# Step 6: Scale Features"
      ],
      "metadata": {
        "id": "VeKnHFEWwibx"
      }
    },
    {
      "cell_type": "code",
      "source": [
        "scaler = StandardScaler()\n",
        "X_scaled = scaler.fit_transform(X)"
      ],
      "metadata": {
        "id": "BcG2s6AtwjXn"
      },
      "execution_count": 8,
      "outputs": []
    },
    {
      "cell_type": "markdown",
      "source": [
        "# Step 7: Handle Class Imbalance using SMOTE"
      ],
      "metadata": {
        "id": "OSNVpEn2wnte"
      }
    },
    {
      "cell_type": "code",
      "source": [
        "sm = SMOTE(random_state=42)\n",
        "X_res, y_res = sm.fit_resample(X_scaled, y)\n",
        "print(\"Resampled dataset shape:\", X_res.shape, y_res.shape)"
      ],
      "metadata": {
        "colab": {
          "base_uri": "https://localhost:8080/"
        },
        "id": "GT_8ncF4wvbI",
        "outputId": "604aaf12-0cde-4835-8943-b410fbff88e7"
      },
      "execution_count": 9,
      "outputs": [
        {
          "output_type": "stream",
          "name": "stdout",
          "text": [
            "Resampled dataset shape: (2466, 34) (2466,)\n"
          ]
        }
      ]
    },
    {
      "cell_type": "markdown",
      "source": [
        "# Step 8: Train-Test Split"
      ],
      "metadata": {
        "id": "otZhxaSkw0cR"
      }
    },
    {
      "cell_type": "code",
      "source": [
        "X_train, X_test, y_train, y_test = train_test_split(X_res, y_res, test_size=0.2, random_state=42)"
      ],
      "metadata": {
        "id": "o4I5D7Dxw1Zn"
      },
      "execution_count": 10,
      "outputs": []
    },
    {
      "cell_type": "markdown",
      "source": [
        "# Step 9: Build Models"
      ],
      "metadata": {
        "id": "PKTYIANfw5mw"
      }
    },
    {
      "cell_type": "code",
      "source": [
        "# Logistic Regression\n",
        "log_reg = LogisticRegression(max_iter=500)\n",
        "log_reg.fit(X_train, y_train)\n",
        "y_pred_lr = log_reg.predict(X_test)"
      ],
      "metadata": {
        "id": "s1ElUDAjw8QJ"
      },
      "execution_count": 11,
      "outputs": []
    },
    {
      "cell_type": "code",
      "source": [
        "# Random Forest\n",
        "rf = RandomForestClassifier(n_estimators=100, random_state=42)\n",
        "rf.fit(X_train, y_train)\n",
        "y_pred_rf = rf.predict(X_test)"
      ],
      "metadata": {
        "id": "g407wwmUxCG4"
      },
      "execution_count": 12,
      "outputs": []
    },
    {
      "cell_type": "code",
      "source": [
        "# XGBoost\n",
        "xgb = XGBClassifier(use_label_encoder=False, eval_metric='logloss')\n",
        "xgb.fit(X_train, y_train)\n",
        "y_pred_xgb = xgb.predict(X_test)"
      ],
      "metadata": {
        "colab": {
          "base_uri": "https://localhost:8080/"
        },
        "id": "8abvb8yAxG5X",
        "outputId": "8b215bd0-2520-46d0-e7ca-ac2bec5f58f4"
      },
      "execution_count": 13,
      "outputs": [
        {
          "output_type": "stream",
          "name": "stderr",
          "text": [
            "/usr/local/lib/python3.12/dist-packages/xgboost/training.py:183: UserWarning: [15:08:33] WARNING: /workspace/src/learner.cc:738: \n",
            "Parameters: { \"use_label_encoder\" } are not used.\n",
            "\n",
            "  bst.update(dtrain, iteration=i, fobj=obj)\n"
          ]
        }
      ]
    },
    {
      "cell_type": "markdown",
      "source": [
        "\n",
        "# Step 10: Evaluate Models"
      ],
      "metadata": {
        "id": "BjFvG4jXxKku"
      }
    },
    {
      "cell_type": "code",
      "source": [
        "def evaluate_model(y_true, y_pred, model_name):\n",
        "    print(f\"\\n🔹 {model_name} Results 🔹\")\n",
        "    print(\"Accuracy:\", accuracy_score(y_true, y_pred))\n",
        "    print(\"Classification Report:\\n\", classification_report(y_true, y_pred))\n",
        "    sns.heatmap(confusion_matrix(y_true, y_pred), annot=True, fmt='d', cmap=\"Blues\")\n",
        "    plt.title(f\"{model_name} Confusion Matrix\")\n",
        "    plt.show()\n",
        "evaluate_model(y_test, y_pred_lr, \"Logistic Regression\")\n",
        "evaluate_model(y_test, y_pred_rf, \"Random Forest\")\n",
        "evaluate_model(y_test, y_pred_xgb, \"XGBoost\")\n"
      ],
      "metadata": {
        "colab": {
          "base_uri": "https://localhost:8080/",
          "height": 1000
        },
        "id": "BNwIZwLCxLpi",
        "outputId": "5e7b5d1f-7334-48e0-f225-c38cf532c46e"
      },
      "execution_count": 15,
      "outputs": [
        {
          "output_type": "stream",
          "name": "stdout",
          "text": [
            "\n",
            "🔹 Logistic Regression Results 🔹\n",
            "Accuracy: 0.757085020242915\n",
            "Classification Report:\n",
            "               precision    recall  f1-score   support\n",
            "\n",
            "           0       0.79      0.71      0.75       250\n",
            "           1       0.73      0.80      0.77       244\n",
            "\n",
            "    accuracy                           0.76       494\n",
            "   macro avg       0.76      0.76      0.76       494\n",
            "weighted avg       0.76      0.76      0.76       494\n",
            "\n"
          ]
        },
        {
          "output_type": "display_data",
          "data": {
            "text/plain": [
              "<Figure size 640x480 with 2 Axes>"
            ],
            "image/png": "[encoded data removed]"
          },
          "metadata": {}
        },
        {
          "output_type": "stream",
          "name": "stdout",
          "text": [
            "\n",
            "🔹 Random Forest Results 🔹\n",
            "Accuracy: 0.9352226720647774\n",
            "Classification Report:\n",
            "               precision    recall  f1-score   support\n",
            "\n",
            "           0       0.91      0.96      0.94       250\n",
            "           1       0.96      0.91      0.93       244\n",
            "\n",
            "    accuracy                           0.94       494\n",
            "   macro avg       0.94      0.93      0.94       494\n",
            "weighted avg       0.94      0.94      0.94       494\n",
            "\n"
          ]
        },
        {
          "output_type": "display_data",
          "data": {
            "text/plain": [
              "<Figure size 640x480 with 2 Axes>"
            ],
            "image/png": "[encoded data removed]"
          },
          "metadata": {}
        },
        {
          "output_type": "stream",
          "name": "stdout",
          "text": [
            "\n",
            "🔹 XGBoost Results 🔹\n",
            "Accuracy: 0.9291497975708503\n",
            "Classification Report:\n",
            "               precision    recall  f1-score   support\n",
            "\n",
            "           0       0.91      0.96      0.93       250\n",
            "           1       0.95      0.90      0.93       244\n",
            "\n",
            "    accuracy                           0.93       494\n",
            "   macro avg       0.93      0.93      0.93       494\n",
            "weighted avg       0.93      0.93      0.93       494\n",
            "\n"
          ]
        },
        {
          "output_type": "display_data",
          "data": {
            "text/plain": [
              "<Figure size 640x480 with 2 Axes>"
            ],
            "image/png": "[encoded data removed]"
          },
          "metadata": {}
        }
      ]
    },
    {
      "cell_type": "markdown",
      "source": [
        "\n",
        "# Step 11: Feature Importance (Random Forest)"
      ],
      "metadata": {
        "id": "8K1XMjvuyVQ4"
      }
    },
    {
      "cell_type": "code",
      "source": [
        "importances = rf.feature_importances_\n",
        "feat_imp = pd.DataFrame({\"Feature\": X.columns, \"Importance\": importances})\n",
        "feat_imp = feat_imp.sort_values(by=\"Importance\", ascending=False).head(10)\n",
        "\n",
        "plt.figure(figsize=(8,5))\n",
        "sns.barplot(x=\"Importance\", y=\"Feature\", data=feat_imp, palette=\"viridis\")\n",
        "plt.title(\"Top 10 Important Features - Random Forest\")\n",
        "plt.show()"
      ],
      "metadata": {
        "colab": {
          "base_uri": "https://localhost:8080/",
          "height": 594
        },
        "id": "WS2LYEBJyXzk",
        "outputId": "23c81c8c-c454-46f8-e3cf-43959b29c743"
      },
      "execution_count": 16,
      "outputs": [
        {
          "output_type": "stream",
          "name": "stderr",
          "text": [
            "/tmp/ipython-input-2068926126.py:6: FutureWarning: \n",
            "\n",
            "Passing `palette` without assigning `hue` is deprecated and will be removed in v0.14.0. Assign the `y` variable to `hue` and set `legend=False` for the same effect.\n",
            "\n",
            "  sns.barplot(x=\"Importance\", y=\"Feature\", data=feat_imp, palette=\"viridis\")\n"
          ]
        },
        {
          "output_type": "display_data",
          "data": {
            "text/plain": [
              "<Figure size 800x500 with 1 Axes>"
            ],
            "image/png": "[encoded data removed]"
          },
          "metadata": {}
        }
      ]
    },
    {
      "cell_type": "markdown",
      "source": [
        "# 📌 Final Thoughts\n",
        "- Random Forest and XGBoost usually perform better than Logistic Regression.  \n",
        "- Features like **OverTime, JobRole, Age, MonthlyIncome** strongly influence attrition.  \n",
        "- HR teams can use these insights to design better employee retention strategies.  \n"
      ],
      "metadata": {
        "id": "aZS_7wef1RaB"
      }
    }
  ]
}